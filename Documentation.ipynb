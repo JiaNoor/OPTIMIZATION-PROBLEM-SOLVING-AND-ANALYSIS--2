{
 "cells": [
  {
   "cell_type": "markdown",
   "id": "e4eeb222-f190-477c-b3ff-5d87151a8bb7",
   "metadata": {},
   "source": [
    "# CF969-7-SU-CO \n",
    "## Big-Data for Computational Finance \n",
    "### Academic Year: 2023/24 \n",
    "#### Assignment 1\n",
    "\n",
    "**Name:**\n",
    "\n",
    "**ID:**\n",
    "\n",
    "**Date:**\n"
   ]
  },
  {
   "cell_type": "markdown",
   "id": "8e4c565b-40c7-4217-82b0-61c65dfb600b",
   "metadata": {},
   "source": [
    "## Contents\n",
    "\n",
    "1. [Abstract](#Abstract)\n",
    "2. [Introduction](#Introduction)\n",
    "3. [Theoretical Background](#Theoretical-Background)\n",
    "4. [Data Generation](#Data-Generation)\n",
    "5. [Methodology](#Methodology)\n",
    "   - [Quadratic Programming Solvers](#Quadratic-Programming-Solvers)\n",
    "   - [Optimisation for Different Values of r](#Optimisation-for-Different-Values-of-r)\n",
    "6. [Challenges and Solutions](#Challenges-and-Solutions)\n",
    "   - [Task 1: Standard Markowitz Model](#Task-1-Standard-Markowitz-Model)\n",
    "   - [Task 2: Fractional Capital Investment](#Task-2-Fractional-Capital-Investment)\n",
    "   - [Task 3: Relaxed Return Constraint](#Task-3-Relaxed-Return-Constraint)\n",
    "   - [Task 4: Short Selling Allowed](#Task-4-Short-Selling-Allowed)\n",
    "7. [Results](#Results)\n",
    "   - [Task 1:](#Task-1)\n",
    "   - [Task 2:](#Task-2)\n",
    "   - [Task 3:](#Task-3)\n",
    "   - [Task 4:](#Task-4)\n",
    "8. [Limitations and Assumptions](#Limitations-and-Assumptions)\n",
    "9. [Conclusion](#Conclusion)\n"
   ]
  },
  {
   "cell_type": "markdown",
   "id": "f2b8c8a7-c0fc-4cfc-8996-a7ad557edaee",
   "metadata": {},
   "source": [
    "## Abstract\n",
    "\n",
    "This report inspects the utilisation of quadratic programming to advance venture portfolios utilising the Markowitz model. Here advancing portfolios means to get the thought where to contribute and what might be the base and most extreme gamble consider that speculation. Four errands with different requirements and situations are addressed offering hypothetical experiences recognising difficulties and introducing viable outcomes. The analysis of what actually these progressions mean for portfolio hazard and return by surveying the outcomes of different expected returns fractional capital ventures changed return cutoff points and short selling had performed. Improving the making of speculation systems through a more exhaustive cognisance of chance return compromises under different conditions is the point.\n"
   ]
  },
  {
   "cell_type": "markdown",
   "id": "c547a777-14ed-469b-8427-9e982ea9f4d1",
   "metadata": {},
   "source": [
    "## Introduction\n",
    "\n",
    "The Markowitz model frequently known as the mean-difference model was made by Harry Markowitz in 1952 and is a crucial part of the present day portfolio hypothesis. By boosting capital distribution among different resources it helps financial backers in building portfolios that expand returns at a specific gamble level or limit risk. In this review the Markowitz model is figured out as a quadratic enhancement issue which is settled with an open-source Python curved improvement module called CVXPY. By adjusting the limits researching different circumstances and assessing what they mean for portfolio streamlining is the aim.\n"
   ]
  },
  {
   "cell_type": "markdown",
   "id": "38ac4a85-7fb9-446d-a837-5c881fb327d1",
   "metadata": {},
   "source": [
    "## Theoretical Background\n",
    "\n",
    "The Markowitz model works on the following assumptions:\n",
    "- Investors are risk-averse preferring portfolios that offer higher returns with lower risk.\n",
    "- The risk of a portfolio is based on the variability of its returns.\n",
    "\n",
    "The model uses the following parameters:\n",
    "- μ: vector of expected returns for n assets\n",
    "- C: covariance matrix of asset returns\n",
    "- x: vector of portfolio weights\n",
    "\n",
    "The optimisation problem is defined as:\n",
    "\n",
    "minimise     x<sup>T</sup>Cx\n",
    "\n",
    "subject to   μ<sup>T</sup>x = r \n",
    "\n",
    "e<sup>T</sup>x = 1 where e = (1 … 1)<sup>T</sup>\n",
    "\n",
    "x ≥ 0. \n",
    "\n",
    "where e is a vector of ones ensuring the weights sum to one and r is the desired portfolio return.\n"
   ]
  },
  {
   "cell_type": "markdown",
   "id": "1429cb4f-7ea3-4c5f-96cb-09e2575a76cc",
   "metadata": {},
   "source": [
    "## Data Generation\n",
    "\n",
    "To generate the expected return vector μ and the covariance matrix C use a python random module that produces random values based on specific digits of the student's registration number ensuring unique datasets.\n"
   ]
  },
  {
   "cell_type": "markdown",
   "id": "58e8718c-01d3-427c-854b-13fbe8747657",
   "metadata": {},
   "source": [
    "## Methodology\n",
    "\n",
    "### Quadratic Programming Solvers\n",
    "\n",
    "CVXPY is employed to solve quadratic programming problems. \n",
    "The tasks involve:\n",
    "1. Standard Markowitz model\n",
    "2. Allowing fractional capital investment (e<sup>T</sup>x ≤ 1)\n",
    "3. Relaxed return constraint ( μ<sup>T</sup>x ≥ r )\n",
    "4. Permitting short selling (x unconstrained)\n",
    "\n",
    "### Optimisation for Different Values of r\n",
    "\n",
    "The optimisation is performed for different values of r as given in the assignment ranging from 2.00 to 9.00 with the increasing rate of 0.25.\n"
   ]
  },
  {
   "cell_type": "markdown",
   "id": "2cfbe099-c38a-497c-a940-73053d9844a8",
   "metadata": {},
   "source": [
    "## Challenges and Solutions\n",
    "\n",
    "### Task 1: Standard Markowitz Model\n",
    "**Challenges:**\n",
    "- Non-deterministic behaviour due to lack of seed in random number generation.\n",
    "- The construction and population of the correlation matrix are unconventional and could be made more efficient using numpy's built-in functions.\n",
    "\n",
    "**Solutions:**\n",
    "- Set a seed for random number generation to ensure reproducibility.\n",
    "- Implement robust error handling for optimisation results.\n",
    "\n",
    "### Task 2: Fractional Capital Investment\n",
    "**Challenges:**\n",
    "- Ensuring reproducibility and consistency in random number generation.\n",
    "- Accurate matrix construction and indexing.\n",
    "- Formulating the optimisation problem correctly is critical.\n",
    "\n",
    "**Solutions:**\n",
    "- Use consistent random number generation methods.\n",
    "- Carefully construct and manipulate matrices with proper indexing.\n",
    "\n",
    "### Task 3: Relaxed Return Constraint\n",
    "**Challenges:**\n",
    "- Managing matrix manipulation and indexing.\n",
    "- Correct optimisation problem formulation.\n",
    "\n",
    "**Solutions:**\n",
    "- Validate matrix construction and indexing logic.\n",
    "- Define the optimisation problem accurately with necessary constraints.\n",
    "\n",
    "### Task 4: Short Selling Allowed\n",
    "**Challenges:**\n",
    "- Formulating the optimisation problem without short-selling constraints.\n",
    "- Handling non-optimal solutions and ensuring proper data conversion for analysis.\n",
    "\n",
    "**Solutions:**\n",
    "- Implement error handling for optimisation and ensure correct data handling.\n",
    "- Handle data based on assumptions.\n"
   ]
  },
  {
   "cell_type": "markdown",
   "id": "6204bb3a-7ab0-426d-9abd-f86b553b1032",
   "metadata": {},
   "source": [
    "## Results\n",
    "\n",
    "### Task 1: Standard Markowitz Model\n",
    "For each value of r from 2.00 to 9.00 the portfolio's risk σ(x) and return μ(x) are calculated and plotted.\n",
    "\n",
    "Graphical Plot: “Plot for Standard Markowitz Model”\n",
    "We are seeing different plots due to changes in the values of S.D with respect to Covariance matrix.\n",
    "\n",
    "The results demonstrated the classic efficient frontier illustrating the optimal portfolios for different levels of expected return (r). The analysis showed that as the desired return increased the associated risk also rose reaffirming the fundamental principles of the mean-variance optimisation model.\n"
   ]
  },
  {
   "cell_type": "code",
   "execution_count": null,
   "id": "c97ddf9c-abdb-4c07-9abe-f9f742e7828f",
   "metadata": {},
   "outputs": [],
   "source": []
  }
 ],
 "metadata": {
  "kernelspec": {
   "display_name": "Python 3 (ipykernel)",
   "language": "python",
   "name": "python3"
  },
  "language_info": {
   "codemirror_mode": {
    "name": "ipython",
    "version": 3
   },
   "file_extension": ".py",
   "mimetype": "text/x-python",
   "name": "python",
   "nbconvert_exporter": "python",
   "pygments_lexer": "ipython3",
   "version": "3.12.4"
  }
 },
 "nbformat": 4,
 "nbformat_minor": 5
}
