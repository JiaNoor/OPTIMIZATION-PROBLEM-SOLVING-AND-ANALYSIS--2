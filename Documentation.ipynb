{
 "cells": [
  {
   "cell_type": "markdown",
   "id": "e4eeb222-f190-477c-b3ff-5d87151a8bb7",
   "metadata": {},
   "source": [
    "# CF969-7-SU-CO \n",
    "## Big-Data for Computational Finance \n",
    "### Academic Year: 2023/24 \n",
    "#### Assignment 1\n",
    "\n",
    "**Name:**\n",
    "\n",
    "**ID:**\n",
    "\n",
    "**Date:**\n"
   ]
  },
  {
   "cell_type": "markdown",
   "id": "8e4c565b-40c7-4217-82b0-61c65dfb600b",
   "metadata": {},
   "source": [
    "# Table of Contents\n",
    "1. [Introduction](#Introduction)\n",
    "2. [Tasks and Requirements](#Tasks-and-Requirements)\n",
    "   - [Task 1: Solve the Original Problem](#Task-1-Solve-the-Original-Problem)\n",
    "   - [Task 2: Modify the Investment Constraint](#Task-2-Modify-the-Investment-Constraint)\n",
    "   - [Task 3: Alter the Return Constraint](#Task-3-Alter-the-Return-Constraint)\n",
    "   - [Task 4: Permit Short Selling](#Task-4-Permit-Short-Selling)\n",
    "3. [Background](#Background)\n",
    "   - [Expected Return](#Expected-Return)\n",
    "   - [Risk (Variance)](#Risk-Variance)\n",
    "   - [Efficient Frontier](#Efficient-Frontier)\n",
    "4. [Solution Approach](#Solution-Approach)\n",
    "   - [Task 1](#Task-1)\n",
    "   - [Task 2](#Task-2)\n",
    "   - [Task 3](#Task-3)\n",
    "   - [Task 4](#Task-4)\n",
    "5. [Implementation Details](#Implementation-Details)\n",
    "   - [Data Collection](#Data-Collection)\n",
    "   - [Optimization Techniques](#Optimization-Techniques)\n",
    "   - [Libraries Used](#Libraries-Used)\n",
    "6. [Results and Analysis](#Results-and-Analysis)\n",
    "   - [Task 1 Plot](#Task-1-Plot)\n",
    "   - [Task 2 Plot](#Task-2-Plot)\n",
    "   - [Task 3 Plot](#Task-3-Plot)\n",
    "   - [Task 4 Plot](#Task-4-Plot)\n",
    "7. [Restraints and Presumptions](#Restraints-and-Presumptions)\n",
    "8. [Conclusion](#Conclusion)\n"
   ]
  },
  {
   "cell_type": "markdown",
   "id": "c547a777-14ed-469b-8427-9e982ea9f4d1",
   "metadata": {},
   "source": [
    "# Introduction\n",
    "\n",
    "Harry Markowitz encouraged the Markowitz model in 1952. Furthermore suggested as the mean-change model, it is a basic piece of contemporary portfolio speculation. It assists monetary sponsor in making portfolios that with growing returns for an allowed level of opportunity or breaking point risk for a given level of return by overhauling capital dispersion among various assets. The cutoff capacity from the Python scipy.optimize module is used to deal with the quadratic smoothing out issue that the Markowitz model is arranged as in this survey. The objective is to investigate different conditions, change requirements, and assess what these mean for portfolio headway"
   ]
  },
  {
   "cell_type": "markdown",
   "id": "a099a98e-01d7-45fb-81b7-f9b8db3d9dcc",
   "metadata": {},
   "source": [
    "# Tasks and Requirements\n",
    "\n",
    "### Task 1: Solve the Original Problem\n",
    "\n",
    "- **Objective**: Using standard constraints, formulate and resolve the Markowitz portfolio optimization problem\n",
    "- **Details**:\n",
    "  - Formulate the optimization problem.\n",
    "  - Apply constraints: \\( e^T x = 1 \\) and \\( x \\ge 0 \\).\n",
    "  - Plot the efficient frontier for different expected returns.\n",
    "\n",
    "### Task 2: Modify the Investment Constraint\n",
    "\n",
    "- **Objective**: Change the total investment constraint.\n",
    "- **Details**:\n",
    "  - Modify the constraint to \\( e^T x \\le 1 \\).\n",
    "  - Solve the optimization problem.\n",
    "  - Compare results with the original problem.\n",
    "\n",
    "### Task 3: Alter the Return Constraint\n",
    "\n",
    "- **Objective**: Change the return constraint.\n",
    "- **Details**:\n",
    "  - Modify the constraint to \\( \\mu^T x \\ge r \\).\n",
    "  - Solve the optimization problem.\n",
    "  - Analyze the impact on the efficient frontier.\n",
    "\n",
    "### Task 4: Permit Short Selling\n",
    "\n",
    "- **Objective**: Allow short selling by removing the non-negativity constraint.\n",
    "- **Details**:\n",
    "  - Remove the constraint ( x \\ge 0 \\).\n",
    "  - Solve the optimization problem.\n",
    "  - Compare results with previous tasks.\n"
   ]
  },
  {
   "cell_type": "markdown",
   "id": "f1b68375-2839-4ff2-b875-e4829431872a",
   "metadata": {},
   "source": [
    "# Background\n",
    "\n",
    "## Expected Return\n",
    "The weighted sum of the expected returns of its individual assets is termed as expected return. For a portfolio with ( n ) assets:\n",
    "\n",
    "$$\n",
    "\\mu_p = \\sum_{i=1}^{n} x_i \\mu_i\n",
    "$$\n",
    "\n",
    "where \\( x_i \\) is the proportion of the portfolio invested in asset \\( i \\), and \\( \\mu_i \\) is the expected return of asset \\( i \\).\n",
    "\n",
    "## Risk (Variance)\n",
    "The risk of a portfolio is measured by the variance of its returns. For a portfolio of \\( n \\) assets:\n",
    "\n",
    "$$\n",
    "\\sigma_p^2 = \\sum_{i=1}^{n} \\sum_{j=1}^{n} x_i x_j \\sigma_{ij}\n",
    "$$\n",
    "\n",
    "where \\( \\sigma_{ij} \\) is the covariance between the returns of assets \\( i \\) and \\( j \\).\n",
    "\n",
    "## Efficient Frontier\n",
    "The efficient frontier represents the set of optimal portfolios that presents the highest expected return for a given level of risk or the lowest risk for a given level of return.\n"
   ]
  },
  {
   "cell_type": "markdown",
   "id": "97e9b04f-b8b7-4aab-adde-fe276276258c",
   "metadata": {},
   "source": [
    "# Solution Approach\n",
    "\n",
    "## Task 1\n",
    "- Formulate the original Markowitz portfolio optimization problem.\n",
    "- Apply standard constraints \\( e^T x = 1 \\) and \\( x \\geq 0 \\).\n",
    "- Plot the efficient frontier.\n",
    "\n",
    "## Task 2\n",
    "- Modify the investment constraint to \\( e^T x \\leq 1 \\).\n",
    "- Solve the optimization problem.\n",
    "- Plot and compare the efficient frontier with Task 1.\n",
    "\n",
    "## Task 3\n",
    "- Change the return constraint to \\( \\mu^T x \\geq r \\).\n",
    "- Solve the optimization problem.\n",
    "- Plot and analyze the efficient frontier.\n",
    "\n",
    "## Task 4\n",
    "- Remove the non-negativity constraint (\\( x \\geq 0 \\)) to allow short selling.\n",
    "- Solve the optimization problem.\n",
    "- Plot and compare the efficient frontier with previous tasks.\n"
   ]
  },
  {
   "cell_type": "markdown",
   "id": "4fbbef1f-a212-4f50-b594-9ff25d584d25",
   "metadata": {},
   "source": [
    "## Implementation Details\n",
    "\n",
    "### Data Generation\n",
    "\n",
    "The Python random module is used to deliver arbitrary qualities in view of explicit digits of the understudy's enrollment number, ensuring exceptional datasets. This results in the creation of the normal return vector (\\mu) and the covariance lattice (C).\n",
    "\n",
    "### Optimization Techniques\n",
    "\n",
    "- **Quadratic Programming**: Used to solve the Markowitz optimization problem.\n",
    "- **Software**: Jupyter notebook.\n",
    "\n",
    "### Libraries Used\n",
    "\n",
    "- `numpy`: For numerical computations.\n",
    "- `pandas`: For data manipulation and analysis.\n",
    "- `matplotlib`: For plotting the efficient frontiers.\n",
    "- `scipy.optimize.minimize`: For solving the quadratic optimization problems.\n"
   ]
  },
  {
   "cell_type": "markdown",
   "id": "7c2ebf06-5ba4-4ced-bc2d-c0d2c5a30e17",
   "metadata": {},
   "source": [
    "# Results and Analysis\n",
    "\n",
    "## Task 1:\n",
    "\n",
    "### Standard Markowitz Mode\n",
    "\n",
    "For each value of (r) from 2.00 to 9.00, the portfolio's gamble (\\sigma(x)) and return (\\mu(x)) are determined utilizing improvement procedures. These qualities are then plotted to envision the effective wilderness, delineating the compromise among hazard and return for various objective returns.\n",
    "\n",
    "### Graphical Plot: \n",
    "The plot for the Standard Markowitz Model shows the efficient frontier, which represents the set of optimal portfolios that offer the highest expected return for a given level of risk.\n"
   ]
  },
  {
   "cell_type": "markdown",
   "id": "f60ab47e-461f-4a43-904c-f86fc3bb2c36",
   "metadata": {},
   "source": [
    "![Efficient Frontier](img_task1.png)"
   ]
  },
  {
   "cell_type": "markdown",
   "id": "10a25869-d5ce-484c-9992-9f965c1a1058",
   "metadata": {},
   "source": [
    "### The outcomes exhibited the classic efficient frontier, illustrating the optimal portfolios for different levels of expected return (r). The analysis showed that as the desired return increased, the associated risk also rose, reaffirming the fundamental principles of the mean-variance optimisation model.\n"
   ]
  },
  {
   "cell_type": "markdown",
   "id": "d4205a83-5847-487f-ae5c-52c8a4ac7329",
   "metadata": {},
   "source": [
    "## Task 2:\n",
    "\n",
    "### Fractional Capital Investment\n",
    "\n",
    "The constraint 𝒆𝑇𝒙 = 1 is relaxed to eT x ≤ 1. This scenario is justified by recognising that uninvested capital can be saved without risk or return\n",
    "### Graphical Plot: \n",
    "\n",
    "Fractional capital investment involves purchasing a fraction or percentage of a financial asset rather than the whole unit. This approach allows investors to diversify their portfolio with smaller amounts of capital across different assets, reducing overall risk."
   ]
  },
  {
   "cell_type": "markdown",
   "id": "519892e5-d8da-4844-bace-3256e591484f",
   "metadata": {},
   "source": [
    "![Efficient Frontier](img_task2.png)"
   ]
  },
  {
   "cell_type": "markdown",
   "id": "f482b2dc-5833-4891-a6a6-9e75be71c282",
   "metadata": {},
   "source": [
    "### The efficient frontier expanded when fractional capital investment (eT x < 1) was permitted, indicating that a greater range of risk-return combinations may be possible when available capital is not fully invested. This flexibility gives investors a tactical edge in erratic market situations by allowing them to maintain liquidity while attaining optimal returns."
   ]
  },
  {
   "cell_type": "markdown",
   "id": "9fd18afb-9446-42fe-b9a7-5b9c8e40b980",
   "metadata": {},
   "source": [
    "## Comparison Plot with Task1: "
   ]
  },
  {
   "cell_type": "markdown",
   "id": "7003c1be-1240-430e-aa1b-56b7648066b3",
   "metadata": {},
   "source": [
    "![Comparison of Efficient Frontiers](img_compare(1_2).png)"
   ]
  },
  {
   "cell_type": "markdown",
   "id": "648d79b4-01fa-4e0d-9f10-a02b38296df1",
   "metadata": {},
   "source": [
    "The blue line addresses the principal informational index, and the orange line addresses the second. The amended realistic still looks at the proficient limits of the two informational indexes. However, the σ values differ somewhat, the examination overall doesn't change. Though the orange outskirts are more direct and confined, the blue frontier are as yet more extensive and more bended, proposing a more prominent range of μ and σ."
   ]
  },
  {
   "cell_type": "markdown",
   "id": "d1594e32-8a41-4eee-adea-ed935eace518",
   "metadata": {},
   "source": [
    "## Task 3:\n",
    "\n",
    "### Relaxed Return Constraint\n",
    "\n",
    "In Task 3, the constraint \\( \\mu^T x = r \\) has been changed to \\( \\mu^T x \\geq r \\).\n",
    "\n",
    "### Graphical Plot: \n",
    "\n",
    "Rather of pointing exactly, the normal profit from the portfolio should now be basically the objective. This gives the portfolio extra adaptability since it implies it can meet or past the objective return. This change keeps up with the objective of a solid return while considering conceivable decreased risk."
   ]
  },
  {
   "cell_type": "markdown",
   "id": "83445c28-338f-4b4d-90ec-8dd748ec3e64",
   "metadata": {},
   "source": [
    "![Efficient Frontier](img_task3.png)"
   ]
  },
  {
   "cell_type": "markdown",
   "id": "d0e7e5f9-f8a1-4aea-a278-c959a0d593f7",
   "metadata": {},
   "source": [
    "### More flexibility is obtained by changing the return constraint to (μT x ≥ r), which leads to an efficient frontier that meets or exceeds a minimum necessary return while allowing for larger possible returns."
   ]
  },
  {
   "cell_type": "markdown",
   "id": "3d8bb135-cc88-410d-93be-4e0c273dc9f4",
   "metadata": {},
   "source": [
    "## Comparison Plot with Task1: "
   ]
  },
  {
   "cell_type": "markdown",
   "id": "90543f85-3a81-4dac-821a-5748e0d0a640",
   "metadata": {},
   "source": [
    "![Comparison of Efficient Frontiers](img_compare(1_3).png)"
   ]
  },
  {
   "cell_type": "markdown",
   "id": "f5043712-7dd1-4717-aee8-6210cc9edf01",
   "metadata": {},
   "source": [
    "The effective boundaries of the two informational indexes are plotted above, with the main informational collection displayed in orange and the second in blue. The bend on the orange boondocks is more sensational, proposing a bigger scope of standard deviations (σ) and expected returns (μ). The blue line plot, then again, shows a more direct pattern, demonstrating a more compelled and stable scope of μ and σ. regardless of whether σ esteems just marginally differed."
   ]
  },
  {
   "cell_type": "markdown",
   "id": "a37023b5-0ab4-403b-b5d7-5e54f1637b24",
   "metadata": {},
   "source": [
    "## Task 4:\n",
    "\n",
    "### Short Selling Allowed\n",
    "\n",
    "Short selling is made possible by the removal of the non-negativity restriction 𝒙 ≥ 0. The capacity to borrow money, sell assets, and possibly turn a profit makes this feasible.\n",
    "\n",
    "### Graphical Plot: \n",
    "\n",
    "Short selling is permitted when the non-negativity constraint 𝑥≥0 is removed. This opens up the possibility of borrowing funds and selling assets, which may result in increased profits. The removal of this restriction introduces greater investing flexibility."
   ]
  },
  {
   "cell_type": "markdown",
   "id": "6f4c3e31-9737-4708-b2b7-593e37f97a5d",
   "metadata": {},
   "source": [
    "![Efficient Frontier](img_task4.png)"
   ]
  },
  {
   "cell_type": "markdown",
   "id": "b984490c-fe54-4d34-90a8-9f196ecabf86",
   "metadata": {},
   "source": [
    "### The efficient frontier was greatly affected by allowing short selling (removing the x ≥ 0 condition), suggesting higher potential rewards at higher risk levels. This example demonstrates the aggressive character of short selling, which increases risk while maximizing returns through borrowing and selling assets."
   ]
  },
  {
   "cell_type": "markdown",
   "id": "75fab2e1-1ae6-4bb2-b0d1-c1516a8e5de4",
   "metadata": {},
   "source": [
    "## Comparison Plot with Task1: "
   ]
  },
  {
   "cell_type": "markdown",
   "id": "768b72ce-c25c-46b7-b549-7f2ebefabd93",
   "metadata": {},
   "source": [
    "![Comparison of Efficient Frontiers](img_compare(1_4).png)\n"
   ]
  },
  {
   "cell_type": "markdown",
   "id": "379bd145-7108-4976-b105-1292d593983f",
   "metadata": {},
   "source": [
    "The figure displays the efficient boundaries of two data sets, where orange represents the first data set and blue represents the second. The orange border has a discernible curvature. The blue frontier also curves, albeit in a different pattern."
   ]
  },
  {
   "cell_type": "markdown",
   "id": "c897b4a8-d53b-4c25-8bc5-a19886b855ed",
   "metadata": {},
   "source": [
    "# Restraints and Presumptions\n",
    "\n",
    "- Since even \"risk-free\" investments involve some risk, assumptions on risk-free savings for uninvested capital may not accurately reflect available possibilities. \n",
    "- Assumes perfect market conditions free from barriers to liquidity or transaction costs\n",
    "- By modifying constraints for flexibility, optimization results may become more complex and unstable. \n",
    "- The model's sensitivity to input parameters poses challenges in erratic markets. \n",
    "- Ignores practical and legal restrictions, such as laws against short sales. \n",
    "- Ignores behavioral factors such as risk aversion and market sentiment that have a significant influence on investing decisions. "
   ]
  },
  {
   "cell_type": "markdown",
   "id": "448449a7-bc79-4bd3-a235-bdc878d39bc0",
   "metadata": {},
   "source": [
    "# Conclusion\n",
    "\n",
    "This study researched the utilization of Python quadratic programming to improve portfolios through the Markowitz model. We offered an exhaustive assessment of the manners by which these changes influence portfolio hazard and return by handling four unique positions with various impediments and circumstances. The effective boondocks' development with partial capital speculation, the effect of allowing short deals, and the upgraded adaptability and potential gets back with relaxed return limits are among the significant ends. Execution challenges included ensuring the interaction was repeatable, building exact frameworks, and figuring areas of strength for out issues were totally addressed with reasonable strategies. In light of everything, this examination progresses information on risk-return compromises and gives savvy data."
   ]
  },
  {
   "cell_type": "code",
   "execution_count": null,
   "id": "424deb3d-7150-4c65-8c66-3ea83ddf1dc5",
   "metadata": {},
   "outputs": [],
   "source": []
  }
 ],
 "metadata": {
  "kernelspec": {
   "display_name": "Python 3 (ipykernel)",
   "language": "python",
   "name": "python3"
  },
  "language_info": {
   "codemirror_mode": {
    "name": "ipython",
    "version": 3
   },
   "file_extension": ".py",
   "mimetype": "text/x-python",
   "name": "python",
   "nbconvert_exporter": "python",
   "pygments_lexer": "ipython3",
   "version": "3.12.4"
  }
 },
 "nbformat": 4,
 "nbformat_minor": 5
}
